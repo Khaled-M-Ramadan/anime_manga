{
 "cells": [
  {
   "cell_type": "code",
   "execution_count": 1,
   "id": "9b86c29f",
   "metadata": {},
   "outputs": [
    {
     "data": {
      "application/vnd.microsoft.datawrangler.viewer.v0+json": {
       "columns": [
        {
         "name": "index",
         "rawType": "int64",
         "type": "integer"
        },
        {
         "name": "Unnamed: 0",
         "rawType": "int64",
         "type": "integer"
        },
        {
         "name": "title",
         "rawType": "object",
         "type": "string"
        },
        {
         "name": "eps_count",
         "rawType": "object",
         "type": "string"
        },
        {
         "name": "publish_date",
         "rawType": "object",
         "type": "string"
        },
        {
         "name": "status",
         "rawType": "object",
         "type": "string"
        },
        {
         "name": "season",
         "rawType": "object",
         "type": "string"
        },
        {
         "name": "studio",
         "rawType": "object",
         "type": "string"
        },
        {
         "name": "Censorship",
         "rawType": "object",
         "type": "string"
        },
        {
         "name": "rate",
         "rawType": "object",
         "type": "string"
        },
        {
         "name": "director",
         "rawType": "object",
         "type": "string"
        },
        {
         "name": "eps_period",
         "rawType": "object",
         "type": "string"
        },
        {
         "name": "type",
         "rawType": "object",
         "type": "string"
        },
        {
         "name": "classification",
         "rawType": "object",
         "type": "string"
        }
       ],
       "conversionMethod": "pd.DataFrame",
       "ref": "53a5cc83-5d02-455a-ac8e-c784e992de36",
       "rows": [
        [
         "0",
         "0",
         "Boku no Hero Academia 2nd Season",
         "الحلقات: 25",
         "October 14, 2023",
         "الحالة: مكتمل",
         "Spring 2017",
         "Bones",
         "الرقابة: Censored",
         "التقييم 8.10",
         "unknown",
         "المدة: 23 min. per ep.",
         "النوع: مسلسل",
         "['Action', 'School', 'Shounen', 'Super Power']"
        ],
        [
         "1",
         "1",
         "Cue!",
         "الحلقات: 24",
         "October 13, 2023",
         "الحالة: مكتمل",
         "Winter 2022",
         "Graphinica",
         "الرقابة: Censored",
         "التقييم 6.79",
         "Katagai Shin",
         "المدة: 24 min. per ep.",
         "النوع: مسلسل",
         "['Music', 'Showbiz']"
        ],
        [
         "2",
         "2",
         "Maiko-san Chi no Makanai-san",
         "الحلقات: 12",
         "December 4, 2023",
         "الحالة: مكتمل",
         "Winter 2021",
         "J.C.Staff",
         "الرقابة: Censored",
         "التقييم 7.03",
         "Suzuki Youhei",
         "المدة: 25 min. per ep.",
         "النوع: مسلسل",
         "['Educational', 'Gourmet', 'Iyashikei', 'Shounen', 'Slice of Life', 'Workplace']"
        ],
        [
         "3",
         "3",
         "Dungeon ni Deai wo Motomeru no wa Machigatteiru Darou ka",
         "الحلقات: 13",
         "October 2, 2023",
         "الحالة: مكتمل",
         "Spring 2015",
         "J.C.Staff",
         "الرقابة: Censored",
         "التقييم 7.54",
         "Yamakawa Yoshiki",
         "المدة: 24 min. per ep.",
         "النوع: مسلسل",
         "['Action', 'Adventure', 'Fantasy']"
        ],
        [
         "4",
         "4",
         "Sayounara Ryuusei, Konnichiwa Jinsei",
         "نشر بواسطة: admin",
         "unknown",
         "الحالة: مكتمل",
         "unknown",
         "SynergySP",
         "تم الإصدار في: August 21, 2024",
         "unknown",
         "unknown",
         "النوع: مسلسل",
         "المخرج: Nishida Kenichi",
         "['Action', 'Adventure', 'Fantasy', 'Reincarnation']"
        ]
       ],
       "shape": {
        "columns": 13,
        "rows": 5
       }
      },
      "text/html": [
       "<div>\n",
       "<style scoped>\n",
       "    .dataframe tbody tr th:only-of-type {\n",
       "        vertical-align: middle;\n",
       "    }\n",
       "\n",
       "    .dataframe tbody tr th {\n",
       "        vertical-align: top;\n",
       "    }\n",
       "\n",
       "    .dataframe thead th {\n",
       "        text-align: right;\n",
       "    }\n",
       "</style>\n",
       "<table border=\"1\" class=\"dataframe\">\n",
       "  <thead>\n",
       "    <tr style=\"text-align: right;\">\n",
       "      <th></th>\n",
       "      <th>Unnamed: 0</th>\n",
       "      <th>title</th>\n",
       "      <th>eps_count</th>\n",
       "      <th>publish_date</th>\n",
       "      <th>status</th>\n",
       "      <th>season</th>\n",
       "      <th>studio</th>\n",
       "      <th>Censorship</th>\n",
       "      <th>rate</th>\n",
       "      <th>director</th>\n",
       "      <th>eps_period</th>\n",
       "      <th>type</th>\n",
       "      <th>classification</th>\n",
       "    </tr>\n",
       "  </thead>\n",
       "  <tbody>\n",
       "    <tr>\n",
       "      <th>0</th>\n",
       "      <td>0</td>\n",
       "      <td>Boku no Hero Academia 2nd Season</td>\n",
       "      <td>الحلقات: 25</td>\n",
       "      <td>October 14, 2023</td>\n",
       "      <td>الحالة: مكتمل</td>\n",
       "      <td>Spring 2017</td>\n",
       "      <td>Bones</td>\n",
       "      <td>الرقابة: Censored</td>\n",
       "      <td>التقييم 8.10</td>\n",
       "      <td>unknown</td>\n",
       "      <td>المدة: 23 min. per ep.</td>\n",
       "      <td>النوع: مسلسل</td>\n",
       "      <td>['Action', 'School', 'Shounen', 'Super Power']</td>\n",
       "    </tr>\n",
       "    <tr>\n",
       "      <th>1</th>\n",
       "      <td>1</td>\n",
       "      <td>Cue!</td>\n",
       "      <td>الحلقات: 24</td>\n",
       "      <td>October 13, 2023</td>\n",
       "      <td>الحالة: مكتمل</td>\n",
       "      <td>Winter 2022</td>\n",
       "      <td>Graphinica</td>\n",
       "      <td>الرقابة: Censored</td>\n",
       "      <td>التقييم 6.79</td>\n",
       "      <td>Katagai Shin</td>\n",
       "      <td>المدة: 24 min. per ep.</td>\n",
       "      <td>النوع: مسلسل</td>\n",
       "      <td>['Music', 'Showbiz']</td>\n",
       "    </tr>\n",
       "    <tr>\n",
       "      <th>2</th>\n",
       "      <td>2</td>\n",
       "      <td>Maiko-san Chi no Makanai-san</td>\n",
       "      <td>الحلقات: 12</td>\n",
       "      <td>December 4, 2023</td>\n",
       "      <td>الحالة: مكتمل</td>\n",
       "      <td>Winter 2021</td>\n",
       "      <td>J.C.Staff</td>\n",
       "      <td>الرقابة: Censored</td>\n",
       "      <td>التقييم 7.03</td>\n",
       "      <td>Suzuki Youhei</td>\n",
       "      <td>المدة: 25 min. per ep.</td>\n",
       "      <td>النوع: مسلسل</td>\n",
       "      <td>['Educational', 'Gourmet', 'Iyashikei', 'Shoun...</td>\n",
       "    </tr>\n",
       "    <tr>\n",
       "      <th>3</th>\n",
       "      <td>3</td>\n",
       "      <td>Dungeon ni Deai wo Motomeru no wa Machigatteir...</td>\n",
       "      <td>الحلقات: 13</td>\n",
       "      <td>October 2, 2023</td>\n",
       "      <td>الحالة: مكتمل</td>\n",
       "      <td>Spring 2015</td>\n",
       "      <td>J.C.Staff</td>\n",
       "      <td>الرقابة: Censored</td>\n",
       "      <td>التقييم 7.54</td>\n",
       "      <td>Yamakawa Yoshiki</td>\n",
       "      <td>المدة: 24 min. per ep.</td>\n",
       "      <td>النوع: مسلسل</td>\n",
       "      <td>['Action', 'Adventure', 'Fantasy']</td>\n",
       "    </tr>\n",
       "    <tr>\n",
       "      <th>4</th>\n",
       "      <td>4</td>\n",
       "      <td>Sayounara Ryuusei, Konnichiwa Jinsei</td>\n",
       "      <td>نشر بواسطة: admin</td>\n",
       "      <td>unknown</td>\n",
       "      <td>الحالة: مكتمل</td>\n",
       "      <td>unknown</td>\n",
       "      <td>SynergySP</td>\n",
       "      <td>تم الإصدار في: August 21, 2024</td>\n",
       "      <td>unknown</td>\n",
       "      <td>unknown</td>\n",
       "      <td>النوع: مسلسل</td>\n",
       "      <td>المخرج: Nishida Kenichi</td>\n",
       "      <td>['Action', 'Adventure', 'Fantasy', 'Reincarnat...</td>\n",
       "    </tr>\n",
       "  </tbody>\n",
       "</table>\n",
       "</div>"
      ],
      "text/plain": [
       "   Unnamed: 0                                              title  \\\n",
       "0           0                   Boku no Hero Academia 2nd Season   \n",
       "1           1                                               Cue!   \n",
       "2           2                       Maiko-san Chi no Makanai-san   \n",
       "3           3  Dungeon ni Deai wo Motomeru no wa Machigatteir...   \n",
       "4           4               Sayounara Ryuusei, Konnichiwa Jinsei   \n",
       "\n",
       "           eps_count      publish_date         status       season  \\\n",
       "0        الحلقات: 25  October 14, 2023  الحالة: مكتمل  Spring 2017   \n",
       "1        الحلقات: 24  October 13, 2023  الحالة: مكتمل  Winter 2022   \n",
       "2        الحلقات: 12  December 4, 2023  الحالة: مكتمل  Winter 2021   \n",
       "3        الحلقات: 13   October 2, 2023  الحالة: مكتمل  Spring 2015   \n",
       "4  نشر بواسطة: admin           unknown  الحالة: مكتمل      unknown   \n",
       "\n",
       "       studio                      Censorship          rate          director  \\\n",
       "0       Bones               الرقابة: Censored  التقييم 8.10           unknown   \n",
       "1  Graphinica               الرقابة: Censored  التقييم 6.79      Katagai Shin   \n",
       "2   J.C.Staff               الرقابة: Censored  التقييم 7.03     Suzuki Youhei   \n",
       "3   J.C.Staff               الرقابة: Censored  التقييم 7.54  Yamakawa Yoshiki   \n",
       "4   SynergySP  تم الإصدار في: August 21, 2024       unknown           unknown   \n",
       "\n",
       "               eps_period                     type  \\\n",
       "0  المدة: 23 min. per ep.             النوع: مسلسل   \n",
       "1  المدة: 24 min. per ep.             النوع: مسلسل   \n",
       "2  المدة: 25 min. per ep.             النوع: مسلسل   \n",
       "3  المدة: 24 min. per ep.             النوع: مسلسل   \n",
       "4            النوع: مسلسل  المخرج: Nishida Kenichi   \n",
       "\n",
       "                                      classification  \n",
       "0     ['Action', 'School', 'Shounen', 'Super Power']  \n",
       "1                               ['Music', 'Showbiz']  \n",
       "2  ['Educational', 'Gourmet', 'Iyashikei', 'Shoun...  \n",
       "3                 ['Action', 'Adventure', 'Fantasy']  \n",
       "4  ['Action', 'Adventure', 'Fantasy', 'Reincarnat...  "
      ]
     },
     "execution_count": 1,
     "metadata": {},
     "output_type": "execute_result"
    }
   ],
   "source": [
    "import pandas as pd \n",
    "animeslayerdf=pd.read_csv('Anime_slayer.csv')\n",
    "animeslayerdf.head()"
   ]
  },
  {
   "cell_type": "code",
   "execution_count": 2,
   "id": "c0764f1a",
   "metadata": {},
   "outputs": [],
   "source": [
    "#create a copy\n",
    "animeslayerdf_copy= animeslayerdf.copy()"
   ]
  },
  {
   "cell_type": "code",
   "execution_count": 3,
   "id": "a29cc250",
   "metadata": {},
   "outputs": [],
   "source": [
    "#delet animes with no rate\n",
    "a_s_cleand=animeslayerdf[animeslayerdf['rate']!='unknown']"
   ]
  },
  {
   "cell_type": "code",
   "execution_count": 4,
   "id": "f15fc034",
   "metadata": {},
   "outputs": [],
   "source": [
    "a_s_cleand = a_s_cleand.copy()"
   ]
  },
  {
   "cell_type": "code",
   "execution_count": 5,
   "id": "e5d9f836",
   "metadata": {},
   "outputs": [],
   "source": [
    "#delete unimportant columns\n",
    "a_s_cleand.drop(columns=['Censorship'],inplace=True,errors='ignore')\n",
    "a_s_cleand.drop(columns=['director'],inplace=True,errors='ignore')"
   ]
  },
  {
   "cell_type": "code",
   "execution_count": 6,
   "id": "3ddb572c",
   "metadata": {},
   "outputs": [],
   "source": [
    "# Convert to string using .loc\n",
    "a_s_cleand.loc[:, 'eps_count'] = a_s_cleand['eps_count'].astype(str)\n",
    "\n",
    "# Replace text using .loc\n",
    "a_s_cleand.loc[:, 'eps_count'] = a_s_cleand['eps_count'].str.replace('الحلقات:', '', regex=True)\n",
    "a_s_cleand['eps_count'] = a_s_cleand['eps_count'].str.replace('الرقابة: Censored', 'null', regex=True)\n",
    "a_s_cleand['eps_count'] = a_s_cleand['eps_count'].str.replace('نشر بواسطة: admin', 'null', regex=True)\n",
    "a_s_cleand['eps_count'] = a_s_cleand['eps_count'].str.replace('المخرج: Matsumi Shinichi', 'null', regex=True)\n",
    "a_s_cleand['eps_count'] = a_s_cleand['eps_count'].str.replace('المخرج: Li Haoling, Zhang Shengyan', 'null', regex=True)"
   ]
  },
  {
   "cell_type": "code",
   "execution_count": 7,
   "id": "cb3162bc",
   "metadata": {},
   "outputs": [
    {
     "data": {
      "text/plain": [
       "eps_count\n",
       " 12     540\n",
       " 13     167\n",
       "null     66\n",
       " 24      58\n",
       " 25      38\n",
       " 11      36\n",
       " 10      26\n",
       " 26      18\n",
       " 22       9\n",
       " 23       7\n",
       " 20       5\n",
       " 15       4\n",
       " 51       4\n",
       " 21       4\n",
       " 14       3\n",
       " 39       3\n",
       " 4        3\n",
       " 67       2\n",
       " 16       2\n",
       " 7        2\n",
       " 6        2\n",
       " 74       1\n",
       " 36       1\n",
       " 112      1\n",
       " 5        1\n",
       " 43       1\n",
       " 48       1\n",
       " 52       1\n",
       " 175      1\n",
       " 101      1\n",
       " 100      1\n",
       " 17       1\n",
       " 50       1\n",
       " 293      1\n",
       " 148      1\n",
       " 28       1\n",
       " 64       1\n",
       " 366      1\n",
       " 38       1\n",
       " 37       1\n",
       " 170      1\n",
       " 75       1\n",
       " 220      1\n",
       " 153      1\n",
       " 102      1\n",
       " 500      1\n",
       " 27       1\n",
       "Name: count, dtype: int64"
      ]
     },
     "execution_count": 7,
     "metadata": {},
     "output_type": "execute_result"
    }
   ],
   "source": [
    "a_s_cleand['eps_count'].value_counts()"
   ]
  },
  {
   "cell_type": "markdown",
   "id": "ef0170e3",
   "metadata": {},
   "source": [
    "handle date "
   ]
  },
  {
   "cell_type": "code",
   "execution_count": 10,
   "id": "b81b2425",
   "metadata": {},
   "outputs": [],
   "source": [
    "a_s_cleand['publish_date'] = pd.to_datetime(a_s_cleand['publish_date'], errors='coerce')\n",
    "a_s_cleand['publish_date'] = a_s_cleand['publish_date'].dt.strftime('%Y-%m')"
   ]
  },
  {
   "cell_type": "markdown",
   "id": "3663b928",
   "metadata": {},
   "source": [
    "handel season "
   ]
  },
  {
   "cell_type": "code",
   "execution_count": 11,
   "id": "f0215b37",
   "metadata": {},
   "outputs": [],
   "source": [
    "a_s_cleand['season'] = a_s_cleand['season'].str.split().str[0]\n",
    "\n",
    "# استبدال القيم غير الصالحة\n",
    "a_s_cleand['season'] = a_s_cleand['season'].fillna('Unknown')\n"
   ]
  },
  {
   "cell_type": "markdown",
   "id": "bc6346e5",
   "metadata": {},
   "source": [
    "handell status ,type ,rate and eps_period"
   ]
  },
  {
   "cell_type": "code",
   "execution_count": 12,
   "id": "116c8138",
   "metadata": {},
   "outputs": [],
   "source": [
    "a_s_cleand['eps_period'] = a_s_cleand['eps_period'].str.replace(' min. per ep.', '', regex=True)\n",
    "a_s_cleand['eps_period'] = a_s_cleand['eps_period'].str.replace('المدة:', '', regex=True)"
   ]
  },
  {
   "cell_type": "markdown",
   "id": "f0c1854d",
   "metadata": {},
   "source": [
    "rate"
   ]
  },
  {
   "cell_type": "code",
   "execution_count": 13,
   "id": "ad6a661a",
   "metadata": {},
   "outputs": [],
   "source": [
    "a_s_cleand['rate'] = a_s_cleand['rate'].str.replace('التقييم ', '', regex=True)\n"
   ]
  },
  {
   "cell_type": "markdown",
   "id": "827f3c0d",
   "metadata": {},
   "source": [
    "type"
   ]
  },
  {
   "cell_type": "code",
   "execution_count": 14,
   "id": "894aa5f7",
   "metadata": {},
   "outputs": [
    {
     "data": {
      "text/plain": [
       "type\n",
       " مسلسل               964\n",
       "الحلقات: 1            34\n",
       "الحلقات: 12            6\n",
       "الرقابة: Censored      5\n",
       "الحلقات: 4             4\n",
       "الحلقات: 6             3\n",
       "الحلقات: 2             2\n",
       "الحلقات: 16            2\n",
       "الحلقات: 24            1\n",
       "الحلقات: 13            1\n",
       "الحلقات: 21            1\n",
       "الحلقات: 10            1\n",
       "الحلقات: 18            1\n",
       "Name: count, dtype: int64"
      ]
     },
     "execution_count": 14,
     "metadata": {},
     "output_type": "execute_result"
    }
   ],
   "source": [
    "a_s_cleand['type'] = a_s_cleand['type'].str.replace('النوع:', '', regex=True)\n",
    "a_s_cleand['type'].value_counts()"
   ]
  },
  {
   "cell_type": "code",
   "execution_count": 15,
   "id": "c1fd312b",
   "metadata": {},
   "outputs": [
    {
     "data": {
      "application/vnd.microsoft.datawrangler.viewer.v0+json": {
       "columns": [
        {
         "name": "index",
         "rawType": "int64",
         "type": "integer"
        },
        {
         "name": "Unnamed: 0",
         "rawType": "int64",
         "type": "integer"
        },
        {
         "name": "title",
         "rawType": "object",
         "type": "string"
        },
        {
         "name": "eps_count",
         "rawType": "object",
         "type": "string"
        },
        {
         "name": "publish_date",
         "rawType": "object",
         "type": "string"
        },
        {
         "name": "status",
         "rawType": "object",
         "type": "string"
        },
        {
         "name": "season",
         "rawType": "object",
         "type": "string"
        },
        {
         "name": "studio",
         "rawType": "object",
         "type": "string"
        },
        {
         "name": "rate",
         "rawType": "object",
         "type": "string"
        },
        {
         "name": "eps_period",
         "rawType": "object",
         "type": "string"
        },
        {
         "name": "type",
         "rawType": "object",
         "type": "string"
        },
        {
         "name": "classification",
         "rawType": "object",
         "type": "string"
        }
       ],
       "conversionMethod": "pd.DataFrame",
       "ref": "af2fe3fa-b07f-48ea-9a2b-022cae66ea0d",
       "rows": [
        [
         "0",
         "0",
         "Boku no Hero Academia 2nd Season",
         " 25",
         "2023-10",
         "الحالة: مكتمل",
         "Spring",
         "Bones",
         "8.10",
         " 23",
         " مسلسل",
         "['Action', 'School', 'Shounen', 'Super Power']"
        ],
        [
         "1",
         "1",
         "Cue!",
         " 24",
         "2023-10",
         "الحالة: مكتمل",
         "Winter",
         "Graphinica",
         "6.79",
         " 24",
         " مسلسل",
         "['Music', 'Showbiz']"
        ],
        [
         "2",
         "2",
         "Maiko-san Chi no Makanai-san",
         " 12",
         "2023-12",
         "الحالة: مكتمل",
         "Winter",
         "J.C.Staff",
         "7.03",
         " 25",
         " مسلسل",
         "['Educational', 'Gourmet', 'Iyashikei', 'Shounen', 'Slice of Life', 'Workplace']"
        ],
        [
         "3",
         "3",
         "Dungeon ni Deai wo Motomeru no wa Machigatteiru Darou ka",
         " 13",
         "2023-10",
         "الحالة: مكتمل",
         "Spring",
         "J.C.Staff",
         "7.54",
         " 24",
         " مسلسل",
         "['Action', 'Adventure', 'Fantasy']"
        ],
        [
         "5",
         "5",
         "Golden Kamuy 4th Season",
         " 13",
         "2023-09",
         "الحالة: مكتمل",
         "Fall",
         "Brain's Base",
         "8.13",
         " 23",
         " مسلسل",
         "['Action', 'Adult Cast', 'Adventure', 'Historical', 'Military', 'Seinen']"
        ]
       ],
       "shape": {
        "columns": 11,
        "rows": 5
       }
      },
      "text/html": [
       "<div>\n",
       "<style scoped>\n",
       "    .dataframe tbody tr th:only-of-type {\n",
       "        vertical-align: middle;\n",
       "    }\n",
       "\n",
       "    .dataframe tbody tr th {\n",
       "        vertical-align: top;\n",
       "    }\n",
       "\n",
       "    .dataframe thead th {\n",
       "        text-align: right;\n",
       "    }\n",
       "</style>\n",
       "<table border=\"1\" class=\"dataframe\">\n",
       "  <thead>\n",
       "    <tr style=\"text-align: right;\">\n",
       "      <th></th>\n",
       "      <th>Unnamed: 0</th>\n",
       "      <th>title</th>\n",
       "      <th>eps_count</th>\n",
       "      <th>publish_date</th>\n",
       "      <th>status</th>\n",
       "      <th>season</th>\n",
       "      <th>studio</th>\n",
       "      <th>rate</th>\n",
       "      <th>eps_period</th>\n",
       "      <th>type</th>\n",
       "      <th>classification</th>\n",
       "    </tr>\n",
       "  </thead>\n",
       "  <tbody>\n",
       "    <tr>\n",
       "      <th>0</th>\n",
       "      <td>0</td>\n",
       "      <td>Boku no Hero Academia 2nd Season</td>\n",
       "      <td>25</td>\n",
       "      <td>2023-10</td>\n",
       "      <td>الحالة: مكتمل</td>\n",
       "      <td>Spring</td>\n",
       "      <td>Bones</td>\n",
       "      <td>8.10</td>\n",
       "      <td>23</td>\n",
       "      <td>مسلسل</td>\n",
       "      <td>['Action', 'School', 'Shounen', 'Super Power']</td>\n",
       "    </tr>\n",
       "    <tr>\n",
       "      <th>1</th>\n",
       "      <td>1</td>\n",
       "      <td>Cue!</td>\n",
       "      <td>24</td>\n",
       "      <td>2023-10</td>\n",
       "      <td>الحالة: مكتمل</td>\n",
       "      <td>Winter</td>\n",
       "      <td>Graphinica</td>\n",
       "      <td>6.79</td>\n",
       "      <td>24</td>\n",
       "      <td>مسلسل</td>\n",
       "      <td>['Music', 'Showbiz']</td>\n",
       "    </tr>\n",
       "    <tr>\n",
       "      <th>2</th>\n",
       "      <td>2</td>\n",
       "      <td>Maiko-san Chi no Makanai-san</td>\n",
       "      <td>12</td>\n",
       "      <td>2023-12</td>\n",
       "      <td>الحالة: مكتمل</td>\n",
       "      <td>Winter</td>\n",
       "      <td>J.C.Staff</td>\n",
       "      <td>7.03</td>\n",
       "      <td>25</td>\n",
       "      <td>مسلسل</td>\n",
       "      <td>['Educational', 'Gourmet', 'Iyashikei', 'Shoun...</td>\n",
       "    </tr>\n",
       "    <tr>\n",
       "      <th>3</th>\n",
       "      <td>3</td>\n",
       "      <td>Dungeon ni Deai wo Motomeru no wa Machigatteir...</td>\n",
       "      <td>13</td>\n",
       "      <td>2023-10</td>\n",
       "      <td>الحالة: مكتمل</td>\n",
       "      <td>Spring</td>\n",
       "      <td>J.C.Staff</td>\n",
       "      <td>7.54</td>\n",
       "      <td>24</td>\n",
       "      <td>مسلسل</td>\n",
       "      <td>['Action', 'Adventure', 'Fantasy']</td>\n",
       "    </tr>\n",
       "    <tr>\n",
       "      <th>5</th>\n",
       "      <td>5</td>\n",
       "      <td>Golden Kamuy 4th Season</td>\n",
       "      <td>13</td>\n",
       "      <td>2023-09</td>\n",
       "      <td>الحالة: مكتمل</td>\n",
       "      <td>Fall</td>\n",
       "      <td>Brain's Base</td>\n",
       "      <td>8.13</td>\n",
       "      <td>23</td>\n",
       "      <td>مسلسل</td>\n",
       "      <td>['Action', 'Adult Cast', 'Adventure', 'Histori...</td>\n",
       "    </tr>\n",
       "  </tbody>\n",
       "</table>\n",
       "</div>"
      ],
      "text/plain": [
       "   Unnamed: 0                                              title eps_count  \\\n",
       "0           0                   Boku no Hero Academia 2nd Season        25   \n",
       "1           1                                               Cue!        24   \n",
       "2           2                       Maiko-san Chi no Makanai-san        12   \n",
       "3           3  Dungeon ni Deai wo Motomeru no wa Machigatteir...        13   \n",
       "5           5                            Golden Kamuy 4th Season        13   \n",
       "\n",
       "  publish_date         status  season        studio  rate eps_period    type  \\\n",
       "0      2023-10  الحالة: مكتمل  Spring         Bones  8.10         23   مسلسل   \n",
       "1      2023-10  الحالة: مكتمل  Winter    Graphinica  6.79         24   مسلسل   \n",
       "2      2023-12  الحالة: مكتمل  Winter     J.C.Staff  7.03         25   مسلسل   \n",
       "3      2023-10  الحالة: مكتمل  Spring     J.C.Staff  7.54         24   مسلسل   \n",
       "5      2023-09  الحالة: مكتمل    Fall  Brain's Base  8.13         23   مسلسل   \n",
       "\n",
       "                                      classification  \n",
       "0     ['Action', 'School', 'Shounen', 'Super Power']  \n",
       "1                               ['Music', 'Showbiz']  \n",
       "2  ['Educational', 'Gourmet', 'Iyashikei', 'Shoun...  \n",
       "3                 ['Action', 'Adventure', 'Fantasy']  \n",
       "5  ['Action', 'Adult Cast', 'Adventure', 'Histori...  "
      ]
     },
     "execution_count": 15,
     "metadata": {},
     "output_type": "execute_result"
    }
   ],
   "source": [
    "a_s_cleand.head()"
   ]
  },
  {
   "cell_type": "code",
   "execution_count": 16,
   "id": "068b5213",
   "metadata": {},
   "outputs": [],
   "source": [
    "a_s_cleand['status'] = a_s_cleand['status'].str.replace('الحالة:', '', regex=True)"
   ]
  },
  {
   "cell_type": "code",
   "execution_count": 17,
   "id": "d65b39c8",
   "metadata": {},
   "outputs": [
    {
     "data": {
      "text/plain": [
       "status\n",
       "مكتمل        1009\n",
       "يعرض الأن      16\n",
       "Name: count, dtype: int64"
      ]
     },
     "execution_count": 17,
     "metadata": {},
     "output_type": "execute_result"
    }
   ],
   "source": [
    "a_s_cleand['status'].value_counts()"
   ]
  },
  {
   "cell_type": "code",
   "execution_count": 20,
   "id": "f6f3edb0",
   "metadata": {},
   "outputs": [],
   "source": [
    "a_s_cleand['status'] = a_s_cleand['status'].str.replace('مكتمل', 'compleated', regex=True)\n",
    "a_s_cleand['status'] = a_s_cleand['status'].str.replace('يعرض الأن', 'ongoing', regex=True)"
   ]
  },
  {
   "cell_type": "code",
   "execution_count": 21,
   "id": "c317fbca",
   "metadata": {},
   "outputs": [
    {
     "data": {
      "text/plain": [
       "type\n",
       " مسلسل               964\n",
       "الحلقات: 1            34\n",
       "الحلقات: 12            6\n",
       "الرقابة: Censored      5\n",
       "الحلقات: 4             4\n",
       "الحلقات: 6             3\n",
       "الحلقات: 2             2\n",
       "الحلقات: 16            2\n",
       "الحلقات: 24            1\n",
       "الحلقات: 13            1\n",
       "الحلقات: 21            1\n",
       "الحلقات: 10            1\n",
       "الحلقات: 18            1\n",
       "Name: count, dtype: int64"
      ]
     },
     "execution_count": 21,
     "metadata": {},
     "output_type": "execute_result"
    }
   ],
   "source": [
    "a_s_cleand['type'].value_counts()"
   ]
  },
  {
   "cell_type": "code",
   "execution_count": null,
   "id": "8039fd46",
   "metadata": {},
   "outputs": [],
   "source": [
    "a_s_cleand"
   ]
  },
  {
   "cell_type": "code",
   "execution_count": 24,
   "id": "92140143",
   "metadata": {},
   "outputs": [],
   "source": [
    "# after revision the website\n",
    "# elements with eps_count = عدد الحلقات :1  is movies\n",
    "replacements = {\n",
    "    ' مسلسل': 'series',\n",
    "    'الحلقات: 4': 'series',\n",
    "    'الحلقات: 12': 'series',\n",
    "    'الحلقات: 6': 'series',\n",
    "    'الحلقات: 2': 'series',\n",
    "    'الحلقات: 16': 'series',\n",
    "    'الحلقات: 24': 'series',\n",
    "    'الحلقات: 13': 'series',\n",
    "    'الحلقات: 21': 'series',\n",
    "    'الحلقات: 10': 'series',\n",
    "    'الحلقات: 18': 'series',\n",
    "    'series': 'series',  \n",
    "    'movie': 'movie',\n",
    "    'الحلقات: 1' :'movie' ,\n",
    "    'الرقابة: Censored':'series'  \n",
    "}\n",
    "\n",
    "a_s_cleand['type'] = a_s_cleand['type'].replace(replacements)"
   ]
  },
  {
   "cell_type": "code",
   "execution_count": 27,
   "id": "5b0eaeab",
   "metadata": {},
   "outputs": [],
   "source": [
    "a_s_cleand['eps_period'] = a_s_cleand['eps_period'].str.replace('min', '', regex=True)"
   ]
  },
  {
   "cell_type": "code",
   "execution_count": null,
   "id": "7b44c091",
   "metadata": {},
   "outputs": [],
   "source": [
    "a_s_cleand['eps_period'] = a_s_cleand['eps_period'].str.replace('min', '', regex=True)"
   ]
  },
  {
   "cell_type": "code",
   "execution_count": 28,
   "id": "2a1541e9",
   "metadata": {},
   "outputs": [
    {
     "data": {
      "text/plain": [
       "eps_period\n",
       " 23                    487\n",
       " 24                    357\n",
       " 22                     46\n",
       " 25                     34\n",
       " 26                      9\n",
       " 12                      7\n",
       " 28                      7\n",
       " 3                       7\n",
       " 1 hr. 46 .              5\n",
       " 4                       4\n",
       " 24 .                    3\n",
       " 15                      3\n",
       " 14                      3\n",
       " 11                      3\n",
       " 1 hr. 55 .              2\n",
       " 29                      2\n",
       " 8                       2\n",
       " 1 hr. 47 .              2\n",
       " 23 .                    2\n",
       " 1 hr. 35 .              2\n",
       " 1 hr. 53 .              2\n",
       " 25 .                    2\n",
       " 55 .                    2\n",
       " 1 hr. 31 .              2\n",
       " 31 .                    1\n",
       " 1 hr. 45 .              1\n",
       " 17                      1\n",
       " 50 .                    1\n",
       " 1 hr. 30 .              1\n",
       " 2 hr.                   1\n",
       " 2 hr. 3 .               1\n",
       " 27                      1\n",
       " 1 hr. 42 .              1\n",
       " 19                      1\n",
       "الموسم: Fall 2024        1\n",
       " 1 hr. 50 .              1\n",
       " 1 hr. 41 .              1\n",
       " 18 .                    1\n",
       " 2                       1\n",
       " 1 hr. 44 .              1\n",
       " 9                       1\n",
       "النوع: أونا              1\n",
       " 2 hr. 15 .              1\n",
       " 5                       1\n",
       "الموسم: Spring 2025      1\n",
       " 22 .                    1\n",
       " 30                      1\n",
       " 19 .                    1\n",
       " 30 .                    1\n",
       " 1 hr. 36 .              1\n",
       " 47                      1\n",
       " 1 hr. 34 .              1\n",
       " 1 hr. 1                 1\n",
       " 52 .                    1\n",
       "Name: count, dtype: int64"
      ]
     },
     "execution_count": 28,
     "metadata": {},
     "output_type": "execute_result"
    }
   ],
   "source": [
    "a_s_cleand['eps_period'].value_counts()"
   ]
  },
  {
   "cell_type": "code",
   "execution_count": 29,
   "id": "c8c58e74",
   "metadata": {},
   "outputs": [],
   "source": [
    "\n",
    "import re\n",
    "\n",
    "\n",
    "data = {\n",
    "    'duration': ['1 hr. 46 min.', '30', '2 hr. 15 min.', '45', '3 hr. 5 min.', 'invalid']\n",
    "}\n",
    "\n",
    "df = pd.DataFrame(data)\n",
    "\n",
    "\n",
    "def to_minutes(duration):\n",
    "    try:\n",
    "        \n",
    "        return int(duration)\n",
    "    except ValueError:\n",
    "        \n",
    "        match = re.search(r'(\\d+)\\s*hr\\.?\\s*(?:and|,|\\.)?\\s*(\\d+)\\s*min\\.?', str(duration))\n",
    "        if match:\n",
    "            hours = int(match.group(1))\n",
    "            minutes = int(match.group(2))\n",
    "            return hours * 60 + minutes\n",
    "        else:\n",
    "           \n",
    "            return None\n",
    "\n",
    "\n",
    "a_s_cleand['eps_period'] = a_s_cleand['eps_period'].apply(to_minutes)\n",
    "\n"
   ]
  },
  {
   "cell_type": "code",
   "execution_count": 31,
   "id": "2ecd8f33",
   "metadata": {},
   "outputs": [],
   "source": [
    "a_s_cleand.drop(columns='Unnamed: 0',inplace=True)"
   ]
  },
  {
   "cell_type": "code",
   "execution_count": 32,
   "id": "37b12520",
   "metadata": {},
   "outputs": [],
   "source": [
    "#save as csv \n",
    "a_s_cleand.to_csv('cleandanimeslyer.csv')"
   ]
  },
  {
   "cell_type": "code",
   "execution_count": null,
   "id": "a9f65411",
   "metadata": {},
   "outputs": [],
   "source": []
  }
 ],
 "metadata": {
  "kernelspec": {
   "display_name": "anime",
   "language": "python",
   "name": "python3"
  },
  "language_info": {
   "codemirror_mode": {
    "name": "ipython",
    "version": 3
   },
   "file_extension": ".py",
   "mimetype": "text/x-python",
   "name": "python",
   "nbconvert_exporter": "python",
   "pygments_lexer": "ipython3",
   "version": "3.13.3"
  }
 },
 "nbformat": 4,
 "nbformat_minor": 5
}
